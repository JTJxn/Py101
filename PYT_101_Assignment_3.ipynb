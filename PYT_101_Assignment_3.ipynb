{
  "nbformat": 4,
  "nbformat_minor": 0,
  "metadata": {
    "colab": {
      "provenance": [],
      "include_colab_link": true
    },
    "kernelspec": {
      "name": "python3",
      "display_name": "Python 3"
    },
    "language_info": {
      "name": "python"
    }
  },
  "cells": [
    {
      "cell_type": "markdown",
      "metadata": {
        "id": "view-in-github",
        "colab_type": "text"
      },
      "source": [
        "<a href=\"https://colab.research.google.com/github/JTJxn/Py101/blob/main/PYT_101_Assignment_3.ipynb\" target=\"_parent\"><img src=\"https://colab.research.google.com/assets/colab-badge.svg\" alt=\"Open In Colab\"/></a>"
      ]
    },
    {
      "cell_type": "markdown",
      "source": [
        "# **1) Voter Eligibility**\n",
        "\n",
        "You've been hired to create a government voting form validator needs to check age.\n",
        "\n",
        "Write a function can_vote(age) that takes in a person’s age (string or int) and returns either \"Eligible\" if the age is 18 or older or \"Too young\" otherwise."
      ],
      "metadata": {
        "id": "mK2yIburt9tQ"
      }
    },
    {
      "cell_type": "code",
      "execution_count": 2,
      "metadata": {
        "id": "nZYFj7qDt0y3",
        "colab": {
          "base_uri": "https://localhost:8080/"
        },
        "outputId": "f0bfd985-d91c-45f8-be83-1b4b623a8071"
      },
      "outputs": [
        {
          "output_type": "stream",
          "name": "stdout",
          "text": [
            "Enter your age: 18\n",
            "Eligible\n"
          ]
        }
      ],
      "source": [
        "# voter eligibility age check from user input\n",
        "def can_vote(age):\n",
        "    user_input = input(\"Enter your age: \")\n",
        "    try:\n",
        "        age = int(user_input)\n",
        "    except ValueError:\n",
        "        return \"Invalid input. Please enter a numeric value.\"\n",
        "    return age >= 18\n",
        "# print eligible or too young\n",
        "if can_vote(0):\n",
        "    print(\"Eligible\")\n",
        "else:\n",
        "    print(\"Too young\")"
      ]
    },
    {
      "cell_type": "markdown",
      "source": [
        "# **2) Free Shipping**\n",
        "\n",
        "An e-commerce app you're working on needs to apply free shipping to orders above $50.\n",
        "\n",
        "Write a function shipping_cost(total) that takes in an order total (string or float) and returns either \"Free shipping\" if it’s greater than 50 or \"Shipping $5\" otherwise."
      ],
      "metadata": {
        "id": "Do6N7IXduNp9"
      }
    },
    {
      "cell_type": "code",
      "source": [
        "# shipping cost calculator from user input\n",
        "def shipping_cost(total):\n",
        "    user_input = input(\"Enter the total amount of your order: \")\n",
        "    try:\n",
        "        total = float(user_input)\n",
        "    except ValueError:\n",
        "        return \"Invalid input. Please enter a numeric value.\"\n",
        "    if total < 50:\n",
        "        return \"Shipping $5\"\n",
        "    else:\n",
        "        return \"Free Shipping\"\n",
        "print(shipping_cost(0))"
      ],
      "metadata": {
        "id": "OqAjoR3bvkdf",
        "colab": {
          "base_uri": "https://localhost:8080/"
        },
        "outputId": "6d4afc1b-a552-4a04-f936-1835685260e2"
      },
      "execution_count": 5,
      "outputs": [
        {
          "output_type": "stream",
          "name": "stdout",
          "text": [
            "Enter the total amount of your order: 45\n",
            "Shipping $5\n"
          ]
        }
      ]
    },
    {
      "cell_type": "markdown",
      "source": [
        "# **3) Grade Category**\n",
        "\n",
        "A learning platform you're building needs to assign letter grades based on a score.\n",
        "\n",
        "Write a function letter_grade(score) that takes in a test score (string or int) and returns \"A\" if ≥90, \"B\" if ≥80, or \"C or below\" if <80."
      ],
      "metadata": {
        "id": "LMOxDy1qvlAK"
      }
    },
    {
      "cell_type": "code",
      "source": [
        "# letter grade to number score converter\n",
        "def letter_grade():\n",
        "    user_input = input(\"Enter your score (0-100): \")\n",
        "    try:\n",
        "        score = int(user_input)\n",
        "    except ValueError:\n",
        "        return \"Invalid input. Please enter a numeric value.\"\n",
        "    if score >= 90:\n",
        "        return 'A'\n",
        "    elif score >= 80:\n",
        "        return 'B'\n",
        "    elif score <80:\n",
        "        return 'C'\n",
        "\n",
        "print(letter_grade())"
      ],
      "metadata": {
        "id": "D07JMFA8v85l",
        "colab": {
          "base_uri": "https://localhost:8080/"
        },
        "outputId": "d06c1f13-cb4e-4ca6-b922-55b72faade6c"
      },
      "execution_count": 15,
      "outputs": [
        {
          "output_type": "stream",
          "name": "stdout",
          "text": [
            "Enter your score (0-100): 66\n",
            "C\n"
          ]
        }
      ]
    },
    {
      "cell_type": "markdown",
      "source": [
        "# **4) Password Attempts**\n",
        "\n",
        "A login component of the security system you're writing allows up to a specified number of attempts, designated by set preferences.\n",
        "\n",
        "Write a function check_login(attempts, saved_password) that takes in a number of attempts (string or int) and a password (as a string), then prompts the user to enter their password. Return \"Access granted\" if any attempt matches within the limit specified by attempts, otherwise return \"Denied\"."
      ],
      "metadata": {
        "id": "ESTr-OSrv9St"
      }
    },
    {
      "cell_type": "code",
      "source": [
        "# password attempts check from user inputs\n",
        "def check_login(correct_password):\n",
        "    user_input = input(\"Enter your password: \")\n",
        "    attempts = 1\n",
        "    while user_input != correct_password and attempts < 3:\n",
        "        user_input = input(\"Incorrect password. Try again: \")\n",
        "        attempts += 1\n",
        "    if user_input == correct_password:\n",
        "        return \"Login successful!\"\n",
        "    else:\n",
        "        return \"Too many failed attempts. Access denied.\"\n",
        "print(check_login(\"1234\"))"
      ],
      "metadata": {
        "id": "CrDfO9vSwxl8",
        "colab": {
          "base_uri": "https://localhost:8080/"
        },
        "outputId": "a554a2f7-bafa-4f91-d8ce-eb7c4483c1ea"
      },
      "execution_count": 17,
      "outputs": [
        {
          "output_type": "stream",
          "name": "stdout",
          "text": [
            "Enter your password: 1234\n",
            "Login successful!\n"
          ]
        }
      ]
    },
    {
      "cell_type": "markdown",
      "source": [
        "# **5) Health Drain**\n",
        "\n",
        "A poison mechanic in your fantasy game drains player health until it reaches 0 (there's no cure in your world).\n",
        "\n",
        "Write a function poison_drain(health, stacks) that takes in starting health (string or int) and stacks (string or int) and uses a while loop to both subtract 1 (multiplied by stacks) from the player's health and increase the stack value by 1. Exit the loop and return \"Game Over\" as soon as the player's health value reaches 0."
      ],
      "metadata": {
        "id": "gKS3td9Xwx73"
      }
    },
    {
      "cell_type": "code",
      "source": [
        "# poison drain tracker of health points per turn ending with game over at 0 HP\n",
        "def poison_drain(health, stacks):\n",
        "    while health > 0:\n",
        "        damage = stacks + 1\n",
        "        health -= damage\n",
        "        print(f\"Poison deals {damage} damage. Current health: {health} HP\")\n",
        "        if health <= 0:\n",
        "            print(\"Game Over\")\n",
        "            break\n",
        "        stacks += 1\n",
        "poison_drain(100, 1)"
      ],
      "metadata": {
        "id": "gx7erHr1xrPM",
        "colab": {
          "base_uri": "https://localhost:8080/"
        },
        "outputId": "c282bbe0-a0d7-4b58-9256-6ceffcfd94c8"
      },
      "execution_count": 25,
      "outputs": [
        {
          "output_type": "stream",
          "name": "stdout",
          "text": [
            "Poison deals 2 damage. Current health: 98 HP\n",
            "Poison deals 3 damage. Current health: 95 HP\n",
            "Poison deals 4 damage. Current health: 91 HP\n",
            "Poison deals 5 damage. Current health: 86 HP\n",
            "Poison deals 6 damage. Current health: 80 HP\n",
            "Poison deals 7 damage. Current health: 73 HP\n",
            "Poison deals 8 damage. Current health: 65 HP\n",
            "Poison deals 9 damage. Current health: 56 HP\n",
            "Poison deals 10 damage. Current health: 46 HP\n",
            "Poison deals 11 damage. Current health: 35 HP\n",
            "Poison deals 12 damage. Current health: 23 HP\n",
            "Poison deals 13 damage. Current health: 10 HP\n",
            "Poison deals 14 damage. Current health: -4 HP\n",
            "Game Over\n"
          ]
        }
      ]
    },
    {
      "cell_type": "markdown",
      "source": [
        "# **6) Loan Payoff Simulator**\n",
        "\n",
        "A finance widget you're building estimates how long it takes to pay off a small loan with monthly payments and monthly interest.\n",
        "\n",
        "Write a function months_to_payoff(balance, monthly_payment, monthly_rate) where all three inputs may arrive as strings or numbers: balance is dollars owed, monthly_payment is the dollars paid each month, and monthly_rate is the interest rate as a decimal (\"0.02\" for 2%). Use a while loop that, each month, adds interest (balance *= (1 + monthly_rate)) and then subtracts the payment. Stop when balance is ≤ 0 and return the number of months (as an int).\n",
        "\n",
        "*(Assume monthly_payment is large enough to eventually pay off the loan.)*"
      ],
      "metadata": {
        "id": "9MCemjq5xrmN"
      }
    },
    {
      "cell_type": "code",
      "source": [
        "# loan payoff estimator from user input months to payoff\n",
        "def months_to_payoff(balance, monthly_payment, monthly_rate):\n",
        "    user_input1 = input(\"Enter your loan balance: \")\n",
        "    user_input2 = input(\"Enter your monthly payment: \")\n",
        "    user_input3 = input(\"Enter your monthly interest rate (as a decimal): \")\n",
        "    try:\n",
        "        balance = float(user_input1)\n",
        "        monthly_payment = float(user_input2)\n",
        "        monthly_rate = float(user_input3)\n",
        "    except ValueError:\n",
        "        return \"Invalid input. Please enter numeric values.\"\n",
        "    months = 0\n",
        "    while balance > 0:\n",
        "        interest = balance * monthly_rate\n",
        "        balance += interest - monthly_payment\n",
        "        months += 1\n",
        "    return months\n",
        "print(months_to_payoff(0, 0, 0))"
      ],
      "metadata": {
        "id": "rQpqWViZOa1_",
        "colab": {
          "base_uri": "https://localhost:8080/"
        },
        "outputId": "a7a9a6d6-961e-4bf2-f15e-1e202d30aece"
      },
      "execution_count": 28,
      "outputs": [
        {
          "output_type": "stream",
          "name": "stdout",
          "text": [
            "Enter your loan balance: 2000\n",
            "Enter your monthly payment: 200\n",
            "Enter your monthly interest rate (as a decimal): .02\n",
            "12\n"
          ]
        }
      ]
    },
    {
      "cell_type": "markdown",
      "source": [
        "# **7) Elevator Controller**\n",
        "\n",
        "Your building automation tool needs to move an elevator car from a current floor to a target floor.\n",
        "\n",
        "Write a function moves_to_target(current_floor, target_floor) that takes both floors as string or int. Use a while loop to increment or decrement the current floor by 1 each step until it equals the target. Count each move, and return the move count (as an int)."
      ],
      "metadata": {
        "id": "RT9BSx2AObo7"
      }
    },
    {
      "cell_type": "code",
      "source": [
        "# move levator to floor using loop to increment or decrement floor by 1 and returns counts between floors\n",
        "def moves_to_target(current_floor, target_floor):\n",
        "    count = 0\n",
        "    while current_floor != target_floor:\n",
        "        if current_floor < target_floor:\n",
        "            current_floor += 1\n",
        "        else:\n",
        "            current_floor -= 1\n",
        "        count += 1\n",
        "    return count\n",
        "print(moves_to_target(15, 7))"
      ],
      "metadata": {
        "id": "RGaFRAu2OqYS",
        "colab": {
          "base_uri": "https://localhost:8080/"
        },
        "outputId": "7ed072f2-1efb-4cc8-c9e2-d481b30ea091"
      },
      "execution_count": 29,
      "outputs": [
        {
          "output_type": "stream",
          "name": "stdout",
          "text": [
            "8\n"
          ]
        }
      ]
    },
    {
      "cell_type": "markdown",
      "source": [
        "# **8) Temperature Monitor**\n",
        "\n",
        "A sensor you've built outputs daily temperatures as strings.\n",
        "\n",
        "Write a function freeze_alert(temps) that takes in a list of temperatures and uses a loop to **replace** each entry with \"Freezing\" if <32 or \"Normal\" otherwise."
      ],
      "metadata": {
        "id": "jeDdY9Z-OrGn"
      }
    },
    {
      "cell_type": "code",
      "source": [
        "# temperature monitor that takes in list and returns freezing or normal\n",
        "def freeze_alert(temps):\n",
        "    result = []\n",
        "    for temp in temps:\n",
        "        if temp < 32:\n",
        "            result.append(\"Freezing\")\n",
        "        else:\n",
        "            result.append(\"Normal\")\n",
        "    return result\n",
        "print(freeze_alert([-5, 35, 0, 1238, -1]))"
      ],
      "metadata": {
        "id": "j8rQTsgAQZjF",
        "colab": {
          "base_uri": "https://localhost:8080/"
        },
        "outputId": "2e527b3c-9381-499e-aedc-ec230f1b0c11"
      },
      "execution_count": 31,
      "outputs": [
        {
          "output_type": "stream",
          "name": "stdout",
          "text": [
            "['Freezing', 'Normal', 'Freezing', 'Normal', 'Freezing']\n"
          ]
        }
      ]
    },
    {
      "cell_type": "markdown",
      "source": [
        "# **9) Even/Odd Reporter**\n",
        "\n",
        "A math learning app you're building needs to classify numbers.\n",
        "\n",
        "Write a function parity(numbers) that takes in a list of numbers (strings or ints) and uses a loop and if/else to **replace each entry** with either an \"Even\" or \"Odd\" label."
      ],
      "metadata": {
        "id": "houEGoyZQaaH"
      }
    },
    {
      "cell_type": "code",
      "source": [
        "# function that takes in a list and uses loop to replace entry with odd or even\n",
        "def odd_even_replacer(numbers):\n",
        "    for i in range(len(numbers)):\n",
        "        if numbers[i] % 2 == 0:\n",
        "            numbers[i] = \"Even\"\n",
        "        else:\n",
        "            numbers[i] = \"Odd\"\n",
        "    return numbers\n",
        "print(odd_even_replacer([1, 2, 3, 4, 5, 6]))"
      ],
      "metadata": {
        "id": "vlo587T_RJVW",
        "colab": {
          "base_uri": "https://localhost:8080/"
        },
        "outputId": "34839e91-ddf6-48bb-ebb0-b8d3f4edaa73"
      },
      "execution_count": 32,
      "outputs": [
        {
          "output_type": "stream",
          "name": "stdout",
          "text": [
            "['Odd', 'Even', 'Odd', 'Even', 'Odd', 'Even']\n"
          ]
        }
      ]
    },
    {
      "cell_type": "markdown",
      "source": [
        "# **10) Ability Cooldown Timer**\n",
        "\n",
        "In the backend of a game you're designing, an ability has a cooldown that ticks down each frame by a fixed amount.\n",
        "\n",
        "Write a function cooldown_frames(cooldown, tick) that takes the starting cooldown (seconds) and a per-frame tick amount (seconds deducted per frame), each as string or number. Use a while loop to repeatedly subtract tick from cooldown until it is ≤ 0. Return the number of frames needed (as an int).\n",
        "(Assume tick > 0.)"
      ],
      "metadata": {
        "id": "mCse6cYtRJkC"
      }
    },
    {
      "cell_type": "code",
      "source": [
        "# ability cooldown timer that takes starting cooldown and reduces by seconds per frame and returns value of number of frames needed to reach zero\n",
        "def cooldown_frames(cooldown, tick):\n",
        "    frames = 0\n",
        "    while cooldown > 0:\n",
        "        cooldown -= tick\n",
        "        frames += 1\n",
        "    return frames\n",
        "print(cooldown_frames(10, 0.5))"
      ],
      "metadata": {
        "id": "0p6dy1WcRYnu",
        "colab": {
          "base_uri": "https://localhost:8080/"
        },
        "outputId": "9beb852c-53a0-4eb8-95b4-d24baf47ed7e"
      },
      "execution_count": 34,
      "outputs": [
        {
          "output_type": "stream",
          "name": "stdout",
          "text": [
            "20\n"
          ]
        }
      ]
    }
  ]
}