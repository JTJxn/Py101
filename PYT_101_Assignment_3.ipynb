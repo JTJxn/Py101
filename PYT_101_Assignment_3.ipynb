{
  "nbformat": 4,
  "nbformat_minor": 0,
  "metadata": {
    "colab": {
      "provenance": [],
      "include_colab_link": true
    },
    "kernelspec": {
      "name": "python3",
      "display_name": "Python 3"
    },
    "language_info": {
      "name": "python"
    }
  },
  "cells": [
    {
      "cell_type": "markdown",
      "metadata": {
        "id": "view-in-github",
        "colab_type": "text"
      },
      "source": [
        "<a href=\"https://colab.research.google.com/github/JTJxn/Py101/blob/main/PYT_101_Assignment_3.ipynb\" target=\"_parent\"><img src=\"https://colab.research.google.com/assets/colab-badge.svg\" alt=\"Open In Colab\"/></a>"
      ]
    },
    {
      "cell_type": "markdown",
      "source": [
        "# **1) Voter Eligibility**\n",
        "\n",
        "You've been hired to create a government voting form validator needs to check age.\n",
        "\n",
        "Write a function can_vote(age) that takes in a person’s age (string or int) and returns either \"Eligible\" if the age is 18 or older or \"Too young\" otherwise."
      ],
      "metadata": {
        "id": "mK2yIburt9tQ"
      }
    },
    {
      "cell_type": "code",
      "execution_count": null,
      "metadata": {
        "id": "nZYFj7qDt0y3"
      },
      "outputs": [],
      "source": []
    },
    {
      "cell_type": "markdown",
      "source": [
        "# **2) Free Shipping**\n",
        "\n",
        "An e-commerce app you're working on needs to apply free shipping to orders above $50.\n",
        "\n",
        "Write a function shipping_cost(total) that takes in an order total (string or float) and returns either \"Free shipping\" if it’s greater than 50 or \"Shipping $5\" otherwise."
      ],
      "metadata": {
        "id": "Do6N7IXduNp9"
      }
    },
    {
      "cell_type": "code",
      "source": [],
      "metadata": {
        "id": "OqAjoR3bvkdf"
      },
      "execution_count": null,
      "outputs": []
    },
    {
      "cell_type": "markdown",
      "source": [
        "# **3) Grade Category**\n",
        "\n",
        "A learning platform you're building needs to assign letter grades based on a score.\n",
        "\n",
        "Write a function letter_grade(score) that takes in a test score (string or int) and returns \"A\" if ≥90, \"B\" if ≥80, or \"C or below\" if <80."
      ],
      "metadata": {
        "id": "LMOxDy1qvlAK"
      }
    },
    {
      "cell_type": "code",
      "source": [],
      "metadata": {
        "id": "D07JMFA8v85l"
      },
      "execution_count": null,
      "outputs": []
    },
    {
      "cell_type": "markdown",
      "source": [
        "# **4) Password Attempts**\n",
        "\n",
        "A login component of the security system you're writing allows up to a specified number of attempts, designated by set preferences.\n",
        "\n",
        "Write a function check_login(attempts, saved_password) that takes in a number of attempts (string or int) and a password (as a string), then prompts the user to enter their password. Return \"Access granted\" if any attempt matches within the limit specified by attempts, otherwise return \"Denied\"."
      ],
      "metadata": {
        "id": "ESTr-OSrv9St"
      }
    },
    {
      "cell_type": "code",
      "source": [],
      "metadata": {
        "id": "CrDfO9vSwxl8"
      },
      "execution_count": null,
      "outputs": []
    },
    {
      "cell_type": "markdown",
      "source": [
        "# **5) Health Drain**\n",
        "\n",
        "A poison mechanic in your fantasy game drains player health until it reaches 0 (there's no cure in your world).\n",
        "\n",
        "Write a function poison_drain(health, stacks) that takes in starting health (string or int) and stacks (string or int) and uses a while loop to both subtract 1 (multiplied by stacks) from the player's health and increase the stack value by 1. Exit the loop and return \"Game Over\" as soon as the player's health value reaches 0."
      ],
      "metadata": {
        "id": "gKS3td9Xwx73"
      }
    },
    {
      "cell_type": "code",
      "source": [],
      "metadata": {
        "id": "gx7erHr1xrPM"
      },
      "execution_count": null,
      "outputs": []
    },
    {
      "cell_type": "markdown",
      "source": [
        "# **6) Loan Payoff Simulator**\n",
        "\n",
        "A finance widget you're building estimates how long it takes to pay off a small loan with monthly payments and monthly interest.\n",
        "\n",
        "Write a function months_to_payoff(balance, monthly_payment, monthly_rate) where all three inputs may arrive as strings or numbers: balance is dollars owed, monthly_payment is the dollars paid each month, and monthly_rate is the interest rate as a decimal (\"0.02\" for 2%). Use a while loop that, each month, adds interest (balance *= (1 + monthly_rate)) and then subtracts the payment. Stop when balance is ≤ 0 and return the number of months (as an int).\n",
        "\n",
        "*(Assume monthly_payment is large enough to eventually pay off the loan.)*"
      ],
      "metadata": {
        "id": "9MCemjq5xrmN"
      }
    },
    {
      "cell_type": "code",
      "source": [],
      "metadata": {
        "id": "rQpqWViZOa1_"
      },
      "execution_count": null,
      "outputs": []
    },
    {
      "cell_type": "markdown",
      "source": [
        "# **7) Elevator Controller**\n",
        "\n",
        "Your building automation tool needs to move an elevator car from a current floor to a target floor.\n",
        "\n",
        "Write a function moves_to_target(current_floor, target_floor) that takes both floors as string or int. Use a while loop to increment or decrement the current floor by 1 each step until it equals the target. Count each move, and return the move count (as an int)."
      ],
      "metadata": {
        "id": "RT9BSx2AObo7"
      }
    },
    {
      "cell_type": "code",
      "source": [],
      "metadata": {
        "id": "RGaFRAu2OqYS"
      },
      "execution_count": null,
      "outputs": []
    },
    {
      "cell_type": "markdown",
      "source": [
        "# **8) Temperature Monitor**\n",
        "\n",
        "A sensor you've built outputs daily temperatures as strings.\n",
        "\n",
        "Write a function freeze_alert(temps) that takes in a list of temperatures and uses a loop to **replace** each entry with \"Freezing\" if <32 or \"Normal\" otherwise."
      ],
      "metadata": {
        "id": "jeDdY9Z-OrGn"
      }
    },
    {
      "cell_type": "code",
      "source": [],
      "metadata": {
        "id": "j8rQTsgAQZjF"
      },
      "execution_count": null,
      "outputs": []
    },
    {
      "cell_type": "markdown",
      "source": [
        "# **9) Even/Odd Reporter**\n",
        "\n",
        "A math learning app you're building needs to classify numbers.\n",
        "\n",
        "Write a function parity(numbers) that takes in a list of numbers (strings or ints) and uses a loop and if/else to **replace each entry** with either an \"Even\" or \"Odd\" label."
      ],
      "metadata": {
        "id": "houEGoyZQaaH"
      }
    },
    {
      "cell_type": "code",
      "source": [],
      "metadata": {
        "id": "vlo587T_RJVW"
      },
      "execution_count": null,
      "outputs": []
    },
    {
      "cell_type": "markdown",
      "source": [
        "# **10) Ability Cooldown Timer**\n",
        "\n",
        "In the backend of a game you're designing, an ability has a cooldown that ticks down each frame by a fixed amount.\n",
        "\n",
        "Write a function cooldown_frames(cooldown, tick) that takes the starting cooldown (seconds) and a per-frame tick amount (seconds deducted per frame), each as string or number. Use a while loop to repeatedly subtract tick from cooldown until it is ≤ 0. Return the number of frames needed (as an int).\n",
        "(Assume tick > 0.)"
      ],
      "metadata": {
        "id": "mCse6cYtRJkC"
      }
    },
    {
      "cell_type": "code",
      "source": [],
      "metadata": {
        "id": "0p6dy1WcRYnu"
      },
      "execution_count": null,
      "outputs": []
    }
  ]
}