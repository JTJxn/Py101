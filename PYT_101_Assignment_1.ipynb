{
  "nbformat": 4,
  "nbformat_minor": 0,
  "metadata": {
    "colab": {
      "provenance": [],
      "include_colab_link": true
    },
    "kernelspec": {
      "name": "python3",
      "display_name": "Python 3"
    },
    "language_info": {
      "name": "python"
    }
  },
  "cells": [
    {
      "cell_type": "markdown",
      "metadata": {
        "id": "view-in-github",
        "colab_type": "text"
      },
      "source": [
        "<a href=\"https://colab.research.google.com/github/JTJxn/Py101/blob/main/PYT_101_Assignment_1.ipynb\" target=\"_parent\"><img src=\"https://colab.research.google.com/assets/colab-badge.svg\" alt=\"Open In Colab\"/></a>"
      ]
    },
    {
      "cell_type": "markdown",
      "source": [
        "# **1) Ticket Booth Tally**\n",
        "\n",
        "You're creating an app that adds up pre-sold tickets to an event stored on a text file, but something is going wrong and the total is completely off.\n",
        "\n",
        "Fix the code so it returns the correct number of pre-sold tickets:"
      ],
      "metadata": {
        "id": "nlqUfFLbpA4y"
      }
    },
    {
      "cell_type": "code",
      "execution_count": 1,
      "metadata": {
        "id": "eAw3QUDto8IT",
        "colab": {
          "base_uri": "https://localhost:8080/"
        },
        "outputId": "3af76954-c6dc-4795-d84f-f93f9b342249"
      },
      "outputs": [
        {
          "output_type": "stream",
          "name": "stdout",
          "text": [
            "155\n"
          ]
        }
      ],
      "source": [
        "def ticket_total():\n",
        "    presale_a = \"120\"\n",
        "    presale_b = \"35\"\n",
        "    return int(presale_a) + int(presale_b)\n",
        "\n",
        "print(ticket_total())"
      ]
    },
    {
      "cell_type": "markdown",
      "source": [
        "# **2) Precise Average**\n",
        "\n",
        "A scientific tool you're working on should compute the average of two readings, but it keeps returning a whole number rather than a decimal.\n",
        "\n",
        "Fix the code so the average is given as a precise value:"
      ],
      "metadata": {
        "id": "OzhV2ZbdpkLH"
      }
    },
    {
      "cell_type": "code",
      "source": [
        "def average_reading():\n",
        "    a = 7\n",
        "    b = 2\n",
        "    avg = (a + b) // 2\n",
        "    return avg\n",
        "\n",
        "print(average_reading())"
      ],
      "metadata": {
        "id": "aAQlWsl8p59W",
        "colab": {
          "base_uri": "https://localhost:8080/"
        },
        "outputId": "b7f02a68-ff4a-4349-9d8c-3a3af8ac27c1"
      },
      "execution_count": 2,
      "outputs": [
        {
          "output_type": "stream",
          "name": "stdout",
          "text": [
            "4\n"
          ]
        }
      ]
    },
    {
      "cell_type": "markdown",
      "source": [
        "# **3) Access Control Flag**\n",
        "\n",
        "You're working on a moderation panel that interacts with other tools expecting boolean values, but it's showing numeric rather than truth values.\n",
        "\n",
        "Fix the code so the correct values are returned."
      ],
      "metadata": {
        "id": "4twRLKkLp90I"
      }
    },
    {
      "cell_type": "code",
      "source": [
        "def can_delete():\n",
        "    is_admin = 0\n",
        "    is_owner = 1\n",
        "    return is_admin or is_owner\n",
        "\n",
        "print(can_delete())"
      ],
      "metadata": {
        "id": "S4Rm6I6AqcXp",
        "colab": {
          "base_uri": "https://localhost:8080/"
        },
        "outputId": "8710a4f4-8c78-452f-bf3d-ac26ef5dccb6"
      },
      "execution_count": 3,
      "outputs": [
        {
          "output_type": "stream",
          "name": "stdout",
          "text": [
            "1\n"
          ]
        }
      ]
    },
    {
      "cell_type": "markdown",
      "source": [
        "# **4) Receipt Line**\n",
        "\n",
        "A POS system you're working on is supposed to print a single line on the receipt, but something is going wrong and it keeps crashing.\n",
        "\n",
        "Fix the code so the system correctly prints the subtotal."
      ],
      "metadata": {
        "id": "B5j9IAh8qevi"
      }
    },
    {
      "cell_type": "code",
      "source": [
        "def receipt_line():\n",
        "    subtotal = 48\n",
        "    return \"Subtotal: $\" + str(subtotal)\n",
        "\n",
        "print(receipt_line())"
      ],
      "metadata": {
        "id": "XAsXxk8Cq11t",
        "colab": {
          "base_uri": "https://localhost:8080/"
        },
        "outputId": "d6282a3c-04a0-4c40-d6ff-1ede3e67654b"
      },
      "execution_count": 6,
      "outputs": [
        {
          "output_type": "stream",
          "name": "stdout",
          "text": [
            "Subtotal: $48\n"
          ]
        }
      ]
    },
    {
      "cell_type": "markdown",
      "source": [
        "# **5) Countdown Timer**\n",
        "\n",
        "You're working on a timer that should count down from a given number of seconds, but currently it errors out.\n",
        "\n",
        "Fix the code so the loop runs correctly and prints each number."
      ],
      "metadata": {
        "id": "_JPOakkaq-Y7"
      }
    },
    {
      "cell_type": "code",
      "source": [
        "def countdown():\n",
        "    seconds = 5\n",
        "    for s in range(seconds, 0, -1):\n",
        "        print(s)\n",
        "    return \"Done!\"\n",
        "\n",
        "print(countdown())"
      ],
      "metadata": {
        "id": "1fzfX75_rBk0",
        "colab": {
          "base_uri": "https://localhost:8080/"
        },
        "outputId": "365ef1ec-9d81-4f2d-de23-612aedea25b4"
      },
      "execution_count": 7,
      "outputs": [
        {
          "output_type": "stream",
          "name": "stdout",
          "text": [
            "5\n",
            "4\n",
            "3\n",
            "2\n",
            "1\n",
            "Done!\n"
          ]
        }
      ]
    },
    {
      "cell_type": "markdown",
      "source": [
        "# **6) Indices from User Input**\n",
        "\n",
        "You're working on a photo app where users type which photo they want to view, but something is causing the program to crash.\n",
        "\n",
        "Fix the code so it returns the correct photo by index."
      ],
      "metadata": {
        "id": "hxIBQM7jrWc_"
      }
    },
    {
      "cell_type": "code",
      "source": [
        "def pick_photo():\n",
        "    photos = [\"sun\", \"moon\", \"stars\"]\n",
        "    index = 2\n",
        "    return photos[index]\n",
        "\n",
        "print(pick_photo())"
      ],
      "metadata": {
        "id": "2o1UjVLnrWta",
        "colab": {
          "base_uri": "https://localhost:8080/"
        },
        "outputId": "da233c2f-d426-46c3-e2dc-ba33e612051b"
      },
      "execution_count": 12,
      "outputs": [
        {
          "output_type": "stream",
          "name": "stdout",
          "text": [
            "stars\n"
          ]
        }
      ]
    },
    {
      "cell_type": "markdown",
      "source": [
        "# **7) Cart Total from Mixed Types**\n",
        "\n",
        "The shopping app you're working on is currently crashing instead of returning the total price of items in the user's cart.\n",
        "\n",
        "Fix the code so it correctly returns the total cart price."
      ],
      "metadata": {
        "id": "HGfd51yctDzm"
      }
    },
    {
      "cell_type": "code",
      "source": [
        "def cart_total():\n",
        "    items = [\"12.50\", 7.25, \"3.00\"]\n",
        "    total: float = 0\n",
        "    for price in items:\n",
        "        total += float(price) # Convert string price to float\n",
        "    return total\n",
        "\n",
        "print(cart_total())"
      ],
      "metadata": {
        "id": "Q_GOOh3stFhv",
        "colab": {
          "base_uri": "https://localhost:8080/"
        },
        "outputId": "d8985337-90f2-4be3-acb6-0f394ab9ecd0"
      },
      "execution_count": 14,
      "outputs": [
        {
          "output_type": "stream",
          "name": "stdout",
          "text": [
            "22.75\n"
          ]
        }
      ]
    },
    {
      "cell_type": "markdown",
      "source": [
        "# **8) Laugh Counter**\n",
        "\n",
        "You're working on a joke bot that should print “ha” three times, but something is going terribly wrong.\n",
        "\n",
        "Fix the code so it prints \"hahaha\" without errors."
      ],
      "metadata": {
        "id": "rS1s9VlztXB4"
      }
    },
    {
      "cell_type": "code",
      "source": [
        "def laugh():\n",
        "    base: str = \"ha\"\n",
        "    times: int = 3\n",
        "    return base * times\n",
        "\n",
        "print(laugh())"
      ],
      "metadata": {
        "id": "-WLtrDnFtcZT",
        "colab": {
          "base_uri": "https://localhost:8080/"
        },
        "outputId": "04d1f44a-9f84-482b-b911-12caaf76a3c3"
      },
      "execution_count": 15,
      "outputs": [
        {
          "output_type": "stream",
          "name": "stdout",
          "text": [
            "hahaha\n"
          ]
        }
      ]
    },
    {
      "cell_type": "markdown",
      "source": [
        "# **9) Access List**\n",
        "\n",
        "Your API only allows certain numeric user IDs, but an ID you know to be correct isn't allowing access.\n",
        "\n",
        "Fix the code so the membership test correctly returns True."
      ],
      "metadata": {
        "id": "R23zVuUpupX2"
      }
    },
    {
      "cell_type": "code",
      "source": [
        "def can_access():\n",
        "    allowed_ids = [42, 64, 128]\n",
        "    user_id = 42\n",
        "    return user_id in allowed_ids\n",
        "\n",
        "print(can_access())"
      ],
      "metadata": {
        "id": "yMSvnVWhupnG",
        "colab": {
          "base_uri": "https://localhost:8080/"
        },
        "outputId": "354ad3ab-47cc-4b8d-ad08-a6647183ac67"
      },
      "execution_count": 19,
      "outputs": [
        {
          "output_type": "stream",
          "name": "stdout",
          "text": [
            "True\n"
          ]
        }
      ]
    },
    {
      "cell_type": "markdown",
      "source": [
        "# **10) Feature Flags**\n",
        "\n",
        "Thew app you're working on handles toggles as strings of \"0\" or \"1,\" but a function downstream is expected to specifically return True or False.\n",
        "\n",
        "Fix the code so the function returns the proper boolean (True) for the current flag."
      ],
      "metadata": {
        "id": "VeusO0gru9zG"
      }
    },
    {
      "cell_type": "code",
      "source": [
        "def is_enabled():\n",
        "    flag: bool = True\n",
        "    return flag or False\n",
        "\n",
        "print(is_enabled())"
      ],
      "metadata": {
        "id": "ko3TEjVLvMUR",
        "colab": {
          "base_uri": "https://localhost:8080/"
        },
        "outputId": "403e38b2-e332-4b11-f18d-902a9fa60761"
      },
      "execution_count": 26,
      "outputs": [
        {
          "output_type": "stream",
          "name": "stdout",
          "text": [
            "True\n"
          ]
        }
      ]
    }
  ]
}