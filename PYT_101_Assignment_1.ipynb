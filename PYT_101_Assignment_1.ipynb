{
  "nbformat": 4,
  "nbformat_minor": 0,
  "metadata": {
    "colab": {
      "provenance": [],
      "include_colab_link": true
    },
    "kernelspec": {
      "name": "python3",
      "display_name": "Python 3"
    },
    "language_info": {
      "name": "python"
    }
  },
  "cells": [
    {
      "cell_type": "markdown",
      "metadata": {
        "id": "view-in-github",
        "colab_type": "text"
      },
      "source": [
        "<a href=\"https://colab.research.google.com/github/JTJxn/Py101/blob/main/PYT_101_Assignment_1.ipynb\" target=\"_parent\"><img src=\"https://colab.research.google.com/assets/colab-badge.svg\" alt=\"Open In Colab\"/></a>"
      ]
    },
    {
      "cell_type": "markdown",
      "source": [
        "# **1) Ticket Booth Tally**\n",
        "\n",
        "You're creating an app that adds up pre-sold tickets to an event stored on a text file, but something is going wrong and the total is completely off.\n",
        "\n",
        "Fix the code so it returns the correct number of pre-sold tickets:"
      ],
      "metadata": {
        "id": "nlqUfFLbpA4y"
      }
    },
    {
      "cell_type": "code",
      "execution_count": null,
      "metadata": {
        "id": "eAw3QUDto8IT"
      },
      "outputs": [],
      "source": [
        "def ticket_total():\n",
        "    presale_a = \"120\"\n",
        "    presale_b = \"35\"\n",
        "    return int(presale_a) + int(presale_b)\n",
        "\n",
        "print(ticket_total())"
      ]
    },
    {
      "cell_type": "markdown",
      "source": [
        "# **2) Precise Average**\n",
        "\n",
        "A scientific tool you're working on should compute the average of two readings, but it keeps returning a whole number rather than a decimal.\n",
        "\n",
        "Fix the code so the average is given as a precise value:"
      ],
      "metadata": {
        "id": "OzhV2ZbdpkLH"
      }
    },
    {
      "cell_type": "code",
      "source": [
        "def average_reading():\n",
        "    a = 7\n",
        "    b = 2\n",
        "    avg = (a + b) // 2\n",
        "    return avg\n",
        "\n",
        "print(average_reading())"
      ],
      "metadata": {
        "id": "aAQlWsl8p59W"
      },
      "execution_count": null,
      "outputs": []
    },
    {
      "cell_type": "markdown",
      "source": [
        "# **3) Access Control Flag**\n",
        "\n",
        "You're working on a moderation panel that interacts with other tools expecting boolean values, but it's showing numeric rather than truth values.\n",
        "\n",
        "Fix the code so the correct values are returned."
      ],
      "metadata": {
        "id": "4twRLKkLp90I"
      }
    },
    {
      "cell_type": "code",
      "source": [
        "def can_delete():\n",
        "    is_admin = 0\n",
        "    is_owner = 1\n",
        "    return is_admin or is_owner\n",
        "\n",
        "print(can_delete())"
      ],
      "metadata": {
        "id": "S4Rm6I6AqcXp"
      },
      "execution_count": null,
      "outputs": []
    },
    {
      "cell_type": "markdown",
      "source": [
        "# **4) Receipt Line**\n",
        "\n",
        "A POS system you're working on is supposed to print a single line on the receipt, but something is going wrong and it keeps crashing.\n",
        "\n",
        "Fix the code so the system correctly prints the subtotal."
      ],
      "metadata": {
        "id": "B5j9IAh8qevi"
      }
    },
    {
      "cell_type": "code",
      "source": [
        "def receipt_line():\n",
        "    subtotal = 48\n",
        "    return \"Subtotal: $\" + subtotal\n",
        "\n",
        "print(receipt_line())"
      ],
      "metadata": {
        "id": "XAsXxk8Cq11t"
      },
      "execution_count": null,
      "outputs": []
    },
    {
      "cell_type": "markdown",
      "source": [
        "# **5) Countdown Timer**\n",
        "\n",
        "You're working on a timer that should count down from a given number of seconds, but currently it errors out.\n",
        "\n",
        "Fix the code so the loop runs correctly and prints each number."
      ],
      "metadata": {
        "id": "_JPOakkaq-Y7"
      }
    },
    {
      "cell_type": "code",
      "source": [
        "def countdown():\n",
        "    seconds = 5.0\n",
        "    for s in range(seconds, 0, -1):\n",
        "        print(s)\n",
        "    return \"Done!\"\n",
        "\n",
        "print(countdown())"
      ],
      "metadata": {
        "id": "1fzfX75_rBk0"
      },
      "execution_count": null,
      "outputs": []
    },
    {
      "cell_type": "markdown",
      "source": [
        "# **6) Indices from User Input**\n",
        "\n",
        "You're working on a photo app where users type which photo they want to view, but something is causing the program to crash.\n",
        "\n",
        "Fix the code so it returns the correct photo by index."
      ],
      "metadata": {
        "id": "hxIBQM7jrWc_"
      }
    },
    {
      "cell_type": "code",
      "source": [
        "def pick_photo():\n",
        "    photos = (\"sun\", \"moon\", \"stars\")\n",
        "    index = \"2\"\n",
        "    return photos[index]\n",
        "\n",
        "print(pick_photo())"
      ],
      "metadata": {
        "id": "2o1UjVLnrWta"
      },
      "execution_count": null,
      "outputs": []
    },
    {
      "cell_type": "markdown",
      "source": [
        "# **7) Cart Total from Mixed Types**\n",
        "\n",
        "The shopping app you're working on is currently crashing instead of returning the total price of items in the user's cart.\n",
        "\n",
        "Fix the code so it correctly returns the total cart price."
      ],
      "metadata": {
        "id": "HGfd51yctDzm"
      }
    },
    {
      "cell_type": "code",
      "source": [
        "def cart_total():\n",
        "    items = [\"12.50\", 7.25, \"3.00\"]\n",
        "    total = 0\n",
        "    for price in items:\n",
        "        total += price\n",
        "    return total\n",
        "\n",
        "print(cart_total())"
      ],
      "metadata": {
        "id": "Q_GOOh3stFhv"
      },
      "execution_count": null,
      "outputs": []
    },
    {
      "cell_type": "markdown",
      "source": [
        "# **8) Laugh Counter**\n",
        "\n",
        "You're working on a joke bot that should print “ha” three times, but something is going terribly wrong.\n",
        "\n",
        "Fix the code so it prints \"hahaha\" without errors."
      ],
      "metadata": {
        "id": "rS1s9VlztXB4"
      }
    },
    {
      "cell_type": "code",
      "source": [
        "def laugh():\n",
        "    base = \"ha\"\n",
        "    times = \"3\"\n",
        "    return base * times\n",
        "\n",
        "print(laugh())"
      ],
      "metadata": {
        "id": "-WLtrDnFtcZT"
      },
      "execution_count": null,
      "outputs": []
    },
    {
      "cell_type": "markdown",
      "source": [
        "# **9) Access List**\n",
        "\n",
        "Your API only allows certain numeric user IDs, but an ID you know to be correct isn't allowing access.\n",
        "\n",
        "Fix the code so the membership test correctly returns True."
      ],
      "metadata": {
        "id": "R23zVuUpupX2"
      }
    },
    {
      "cell_type": "code",
      "source": [
        "def can_access():\n",
        "    allowed_ids = {42, 64, 128}\n",
        "    user_id = \"42\"\n",
        "    return user_id in allowed_ids\n",
        "\n",
        "print(can_access())"
      ],
      "metadata": {
        "id": "yMSvnVWhupnG"
      },
      "execution_count": null,
      "outputs": []
    },
    {
      "cell_type": "markdown",
      "source": [
        "# **10) Feature Flags**\n",
        "\n",
        "Thew app you're working on handles toggles as strings of \"0\" or \"1,\" but a function downstream is expected to specifically return True or False.\n",
        "\n",
        "Fix the code so the function returns the proper boolean (True) for the current flag."
      ],
      "metadata": {
        "id": "VeusO0gru9zG"
      }
    },
    {
      "cell_type": "code",
      "source": [
        "def is_enabled():\n",
        "    flag = \"1\"\n",
        "    return flag or False\n",
        "\n",
        "print(is_enabled())"
      ],
      "metadata": {
        "id": "ko3TEjVLvMUR"
      },
      "execution_count": null,
      "outputs": []
    }
  ]
}