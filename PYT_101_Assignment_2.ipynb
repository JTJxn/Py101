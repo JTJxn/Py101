{
  "nbformat": 4,
  "nbformat_minor": 0,
  "metadata": {
    "colab": {
      "provenance": [],
      "include_colab_link": true
    },
    "kernelspec": {
      "name": "python3",
      "display_name": "Python 3"
    },
    "language_info": {
      "name": "python"
    }
  },
  "cells": [
    {
      "cell_type": "markdown",
      "metadata": {
        "id": "view-in-github",
        "colab_type": "text"
      },
      "source": [
        "<a href=\"https://colab.research.google.com/github/JTJxn/Py101/blob/main/PYT_101_Assignment_2.ipynb\" target=\"_parent\"><img src=\"https://colab.research.google.com/assets/colab-badge.svg\" alt=\"Open In Colab\"/></a>"
      ]
    },
    {
      "cell_type": "markdown",
      "source": [
        "# **1) Add Two Numbers**\n",
        "\n",
        "You’re working on a calculator app. Write a function add_numbers(num1, num2) that takes two numbers (as strings or ints), adds them together, and returns the result as an integer."
      ],
      "metadata": {
        "id": "23iWW2gtcy9l"
      }
    },
    {
      "cell_type": "code",
      "execution_count": 2,
      "metadata": {
        "id": "Y2xAdgqucfdp"
      },
      "outputs": [],
      "source": [
        "def add_numbers(num1, num2):\n",
        "  return int(num1) + int(num2)"
      ]
    },
    {
      "cell_type": "code",
      "source": [
        "print(add_numbers(3, \"7\"))"
      ],
      "metadata": {
        "colab": {
          "base_uri": "https://localhost:8080/"
        },
        "id": "lEEwnPvPBNXQ",
        "outputId": "8657847c-2907-4c36-95e0-40e52517b0ce"
      },
      "execution_count": 3,
      "outputs": [
        {
          "output_type": "stream",
          "name": "stdout",
          "text": [
            "10\n"
          ]
        }
      ]
    },
    {
      "cell_type": "markdown",
      "source": [
        "# **2) Temperature Converter**\n",
        "\n",
        "You're creating a weather dashboard that  requires a Celsius → Fahrenheit converter. Write a function to_fahrenheit(celsius) that takes in a Celsius value (string or float), converts it using the formula (C * 9/5) + 32, and returns the result as a float."
      ],
      "metadata": {
        "id": "0dedzGswdC0H"
      }
    },
    {
      "cell_type": "code",
      "source": [
        "# Celcius to Fahrenheit Converter from user input\n",
        "def celsius_to_fahrenheit(celsius):\n",
        "    user_input = input(\"Enter temperature in Celsius: \")\n",
        "    try:\n",
        "        celsius = float(user_input)\n",
        "    except ValueError:\n",
        "        return \"Invalid input. Please enter a numeric value.\"\n",
        "    return (celsius * 9/5) + 32\n",
        "print(celsius_to_fahrenheit(0))"
      ],
      "metadata": {
        "id": "EyoqbKXUdSPA",
        "colab": {
          "base_uri": "https://localhost:8080/"
        },
        "outputId": "a600b828-95a9-4a1f-bc31-6a1f21c243eb"
      },
      "execution_count": 4,
      "outputs": [
        {
          "output_type": "stream",
          "name": "stdout",
          "text": [
            "Enter temperature in Celsius: 36\n",
            "96.8\n"
          ]
        }
      ]
    },
    {
      "cell_type": "markdown",
      "source": [
        "# **3) Age in Five Years**\n",
        "\n",
        "A social media app wants to show how old someone will be in five years and has hired you to write the code. Create a function age_in_five(age) that takes in the current age (string or int), adds 5, and returns the result as an integer."
      ],
      "metadata": {
        "id": "ogIH_mQrdSnx"
      }
    },
    {
      "cell_type": "code",
      "source": [
        "# Add 5 years to current age from user input\n",
        "def age_in_five(age):\n",
        "    user_input = input(\"Enter your current age: \")\n",
        "    try:\n",
        "        age = int(user_input)\n",
        "    except ValueError:\n",
        "        return \"Invalid input. Please enter a numeric value.\"\n",
        "    return age + 5\n",
        "print(age_in_five(0))"
      ],
      "metadata": {
        "id": "5q_WMUycddJj",
        "colab": {
          "base_uri": "https://localhost:8080/"
        },
        "outputId": "ecc1f32a-7136-4ffe-e5fd-6b1954fa5a0d"
      },
      "execution_count": 8,
      "outputs": [
        {
          "output_type": "stream",
          "name": "stdout",
          "text": [
            "Enter your current age: 33\n",
            "38\n"
          ]
        }
      ]
    },
    {
      "cell_type": "markdown",
      "source": [
        "# **4) Shopping Cart Total**\n",
        "\n",
        "The checkout system at Amazon needs help and Jeff himself has personally asked you to intervene. Write a function cart_total(price1, price2) that takes in two prices (as strings or floats), adds them, and returns the result as a float."
      ],
      "metadata": {
        "id": "RjCDi4wZddfp"
      }
    },
    {
      "cell_type": "code",
      "source": [
        "# shopping cart calculator\n",
        "def cart_total():\n",
        "    user_input1 = input(\"Enter first item: \")\n",
        "    user_input2 = input(\"Enter second item: \")\n",
        "    try:\n",
        "        price1 = float(user_input1)\n",
        "        price2 = float(user_input2)\n",
        "    except ValueError:\n",
        "        return \"Invalid input. Please enter numeric values.\"\n",
        "    return price1 + price2\n",
        "print(cart_total())"
      ],
      "metadata": {
        "id": "FmPzdKfSdw1a",
        "colab": {
          "base_uri": "https://localhost:8080/"
        },
        "outputId": "9d189d9b-757d-4665-8efa-253aed23ee47"
      },
      "execution_count": 10,
      "outputs": [
        {
          "output_type": "stream",
          "name": "stdout",
          "text": [
            "Enter first item: 66\n",
            "Enter second item: 66\n",
            "132.0\n"
          ]
        }
      ]
    },
    {
      "cell_type": "markdown",
      "source": [
        "# **5) Greeting Generator**\n",
        "\n",
        "Google's new chatbot system needs to personalize greetings to users and you've been assigned to the team responsible. Write a function greet(name) that takes in a name (string or bytes), and returns \"Hello, <name>!\" as a string."
      ],
      "metadata": {
        "id": "KmfOqCuOdxIc"
      }
    },
    {
      "cell_type": "code",
      "source": [
        "#greet chatbot\n",
        "def greet(name):\n",
        "    user_input = input(\"Enter your name: \")\n",
        "    return f\"Hello, {user_input}!\"\n",
        "print(greet(\"\"))"
      ],
      "metadata": {
        "id": "lhR6hIoHd-v0",
        "colab": {
          "base_uri": "https://localhost:8080/"
        },
        "outputId": "3ff22b63-4999-4c8e-f636-d7e135938d74"
      },
      "execution_count": 11,
      "outputs": [
        {
          "output_type": "stream",
          "name": "stdout",
          "text": [
            "Enter your name: bob\n",
            "Hello, bob!\n"
          ]
        }
      ]
    },
    {
      "cell_type": "markdown",
      "source": [
        "# **6) Double or Nothing**\n",
        "\n",
        "An online casino app needs your help creating a \"double down\" feature on one of their most popular games. Write a function double(value) that takes in a number (string or int), multiplies it by 2, and returns the result as an integer."
      ],
      "metadata": {
        "id": "yF94ET1Vd_cr"
      }
    },
    {
      "cell_type": "code",
      "source": [
        "#double value from user input\n",
        "def double_value(value):\n",
        "    user_input = input(\"Enter a number: \")\n",
        "    try:\n",
        "        value = int(user_input)\n",
        "    except ValueError:\n",
        "        return \"Invalid input. Please enter a numeric value.\"\n",
        "    return value * 2\n",
        "print (double_value(0))"
      ],
      "metadata": {
        "id": "8alUgIE-eXE2",
        "colab": {
          "base_uri": "https://localhost:8080/"
        },
        "outputId": "0580694c-5c50-4383-dc8d-45c26e9f317e"
      },
      "execution_count": 12,
      "outputs": [
        {
          "output_type": "stream",
          "name": "stdout",
          "text": [
            "Enter a number: 55\n",
            "110\n"
          ]
        }
      ]
    },
    {
      "cell_type": "markdown",
      "source": [
        "# **7) Employee Registration**\n",
        "\n",
        "The HR system at your company stores first and last names separately, but the CEO wants a \"full name\" stored as well because he believes it will save the company millions. Write a function full_name(first, last) that takes two strings, combines them with a space in between, and returns the result as a string."
      ],
      "metadata": {
        "id": "TGvHGrG0eXcv"
      }
    },
    {
      "cell_type": "code",
      "source": [
        "#fullname converter\n",
        "def fullname(first, last):\n",
        "    user_input1 = input(\"Enter your first name: \")\n",
        "    user_input2 = input(\"Enter your last name: \")\n",
        "    return f\"Full name: {user_input1} {user_input2}\"\n",
        "print(fullname(\"\", \"\"))"
      ],
      "metadata": {
        "id": "_hUf2PjVetrV",
        "colab": {
          "base_uri": "https://localhost:8080/"
        },
        "outputId": "a67582aa-a27a-403b-9a91-7355294c0db8"
      },
      "execution_count": 13,
      "outputs": [
        {
          "output_type": "stream",
          "name": "stdout",
          "text": [
            "Enter your first name: bob\n",
            "Enter your last name: marley\n",
            "Full name: bob marley\n"
          ]
        }
      ]
    },
    {
      "cell_type": "markdown",
      "source": [
        "# **8) Count Characters**\n",
        "\n",
        "Your fancy new LLM needs to record word length before tokenizing an input. Write a function length(word) that takes in a string (or number), counts how many characters it has, and returns the result as an integer."
      ],
      "metadata": {
        "id": "g1G9h2RHeuA1"
      }
    },
    {
      "cell_type": "code",
      "source": [
        "#Character counter for user input\n",
        "def character_counter():\n",
        "    user_input = input(\"Enter a string: \")\n",
        "    return len(user_input)\n",
        "print(character_counter())"
      ],
      "metadata": {
        "id": "WexY_LOKfBJI",
        "colab": {
          "base_uri": "https://localhost:8080/"
        },
        "outputId": "baabc93d-240c-45a6-d5ef-23f05b2f9438"
      },
      "execution_count": 14,
      "outputs": [
        {
          "output_type": "stream",
          "name": "stdout",
          "text": [
            "Enter a string: robert\n",
            "6\n"
          ]
        }
      ]
    },
    {
      "cell_type": "markdown",
      "source": [
        "# **9) Rectangle Area**\n",
        "\n",
        "Chip and Jo have designed an interior design tool that needs area calculations and you've been hired to help. Write a function area(width, height) that takes two values (strings or ints), multiplies them, and returns the result as an integer."
      ],
      "metadata": {
        "id": "PDNlcZgjfBap"
      }
    },
    {
      "cell_type": "code",
      "source": [
        "#area calculator\n",
        "def area_of_rectangle(height, width):\n",
        "    user = input(\"Enter height: \")\n",
        "    try:\n",
        "        height = int(user)\n",
        "    except ValueError:\n",
        "        return \"Invalid input. Please enter a numeric value.\"\n",
        "    user2 = input(\"Enter width: \")\n",
        "    try:\n",
        "        width = int(user2)\n",
        "    except ValueError:\n",
        "        return \"Invalid input. Please enter a numeric value.\"\n",
        "    return height * width\n",
        "print(area_of_rectangle(0, 0))"
      ],
      "metadata": {
        "id": "6u7uE6SAfPjr",
        "colab": {
          "base_uri": "https://localhost:8080/"
        },
        "outputId": "dcbf3b10-cf06-403a-c513-eba1fe1aa3ce"
      },
      "execution_count": 15,
      "outputs": [
        {
          "output_type": "stream",
          "name": "stdout",
          "text": [
            "Enter height: 6\n",
            "Enter width: 6\n",
            "36\n"
          ]
        }
      ]
    },
    {
      "cell_type": "markdown",
      "source": [
        "# **15) Username Generator**\n",
        "\n",
        "A website you're working on automatically creates usernames from a first initial and a last name. Write a function make_username(first, last) that takes two strings, a first and last name, builds the username in all lowercase, and returns it to the user in the message \"Your username is: <username>.\""
      ],
      "metadata": {
        "id": "SsQQJ324fP4e"
      }
    },
    {
      "cell_type": "code",
      "source": [
        "#username generator from user input\n",
        "def make_username(first, last):\n",
        "    user_input1 = input(\"Enter your first name: \")\n",
        "    user_input2 = input(\"Enter your last name: \")\n",
        "    return f\"{user_input1.lower()}.{user_input2.lower()}\"\n",
        "print('Your username is:' , make_username(\"\", \"\"))"
      ],
      "metadata": {
        "id": "O41cxE9FfQVP",
        "colab": {
          "base_uri": "https://localhost:8080/"
        },
        "outputId": "94b998ab-1787-4a92-889a-889fb941a4c5"
      },
      "execution_count": 18,
      "outputs": [
        {
          "output_type": "stream",
          "name": "stdout",
          "text": [
            "Enter your first name: bob\n",
            "Enter your last name: marley\n",
            "Your username is: bob.marley\n"
          ]
        }
      ]
    }
  ]
}