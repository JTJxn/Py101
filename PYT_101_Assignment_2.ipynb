{
  "nbformat": 4,
  "nbformat_minor": 0,
  "metadata": {
    "colab": {
      "provenance": [],
      "include_colab_link": true
    },
    "kernelspec": {
      "name": "python3",
      "display_name": "Python 3"
    },
    "language_info": {
      "name": "python"
    }
  },
  "cells": [
    {
      "cell_type": "markdown",
      "metadata": {
        "id": "view-in-github",
        "colab_type": "text"
      },
      "source": [
        "<a href=\"https://colab.research.google.com/github/JTJxn/Py101/blob/main/PYT_101_Assignment_2.ipynb\" target=\"_parent\"><img src=\"https://colab.research.google.com/assets/colab-badge.svg\" alt=\"Open In Colab\"/></a>"
      ]
    },
    {
      "cell_type": "markdown",
      "source": [
        "# **1) Add Two Numbers**\n",
        "\n",
        "You’re working on a calculator app. Write a function add_numbers(num1, num2) that takes two numbers (as strings or ints), adds them together, and returns the result as an integer."
      ],
      "metadata": {
        "id": "23iWW2gtcy9l"
      }
    },
    {
      "cell_type": "code",
      "execution_count": null,
      "metadata": {
        "id": "Y2xAdgqucfdp"
      },
      "outputs": [],
      "source": [
        "def add_numbers(num1, num2):\n",
        "  return int(num1) + int(num2)"
      ]
    },
    {
      "cell_type": "code",
      "source": [
        "print(add_numbers(3, \"7\"))"
      ],
      "metadata": {
        "colab": {
          "base_uri": "https://localhost:8080/"
        },
        "id": "lEEwnPvPBNXQ",
        "outputId": "3ea2a8d3-c21f-4d88-9bc4-17fab551f219"
      },
      "execution_count": null,
      "outputs": [
        {
          "output_type": "stream",
          "name": "stdout",
          "text": [
            "10\n"
          ]
        }
      ]
    },
    {
      "cell_type": "markdown",
      "source": [
        "# **2) Temperature Converter**\n",
        "\n",
        "You're creating a weather dashboard that  requires a Celsius → Fahrenheit converter. Write a function to_fahrenheit(celsius) that takes in a Celsius value (string or float), converts it using the formula (C * 9/5) + 32, and returns the result as a float."
      ],
      "metadata": {
        "id": "0dedzGswdC0H"
      }
    },
    {
      "cell_type": "code",
      "source": [],
      "metadata": {
        "id": "EyoqbKXUdSPA"
      },
      "execution_count": null,
      "outputs": []
    },
    {
      "cell_type": "markdown",
      "source": [
        "# **3) Age in Five Years**\n",
        "\n",
        "A social media app wants to show how old someone will be in five years and has hired you to write the code. Create a function age_in_five(age) that takes in the current age (string or int), adds 5, and returns the result as an integer."
      ],
      "metadata": {
        "id": "ogIH_mQrdSnx"
      }
    },
    {
      "cell_type": "code",
      "source": [],
      "metadata": {
        "id": "5q_WMUycddJj"
      },
      "execution_count": null,
      "outputs": []
    },
    {
      "cell_type": "markdown",
      "source": [
        "# **4) Shopping Cart Total**\n",
        "\n",
        "The checkout system at Amazon needs help and Jeff himself has personally asked you to intervene. Write a function cart_total(price1, price2) that takes in two prices (as strings or floats), adds them, and returns the result as a float."
      ],
      "metadata": {
        "id": "RjCDi4wZddfp"
      }
    },
    {
      "cell_type": "code",
      "source": [],
      "metadata": {
        "id": "FmPzdKfSdw1a"
      },
      "execution_count": null,
      "outputs": []
    },
    {
      "cell_type": "markdown",
      "source": [
        "# **5) Greeting Generator**\n",
        "\n",
        "Google's new chatbot system needs to personalize greetings to users and you've been assigned to the team responsible. Write a function greet(name) that takes in a name (string or bytes), and returns \"Hello, <name>!\" as a string."
      ],
      "metadata": {
        "id": "KmfOqCuOdxIc"
      }
    },
    {
      "cell_type": "code",
      "source": [],
      "metadata": {
        "id": "lhR6hIoHd-v0"
      },
      "execution_count": null,
      "outputs": []
    },
    {
      "cell_type": "markdown",
      "source": [
        "# **6) Double or Nothing**\n",
        "\n",
        "An online casino app needs your help creating a \"double down\" feature on one of their most popular games. Write a function double(value) that takes in a number (string or int), multiplies it by 2, and returns the result as an integer."
      ],
      "metadata": {
        "id": "yF94ET1Vd_cr"
      }
    },
    {
      "cell_type": "code",
      "source": [],
      "metadata": {
        "id": "8alUgIE-eXE2"
      },
      "execution_count": null,
      "outputs": []
    },
    {
      "cell_type": "markdown",
      "source": [
        "# **7) Employee Registration**\n",
        "\n",
        "The HR system at your company stores first and last names separately, but the CEO wants a \"full name\" stored as well because he believes it will save the company millions. Write a function full_name(first, last) that takes two strings, combines them with a space in between, and returns the result as a string."
      ],
      "metadata": {
        "id": "TGvHGrG0eXcv"
      }
    },
    {
      "cell_type": "code",
      "source": [],
      "metadata": {
        "id": "_hUf2PjVetrV"
      },
      "execution_count": null,
      "outputs": []
    },
    {
      "cell_type": "markdown",
      "source": [
        "# **8) Count Characters**\n",
        "\n",
        "Your fancy new LLM needs to record word length before tokenizing an input. Write a function length(word) that takes in a string (or number), counts how many characters it has, and returns the result as an integer."
      ],
      "metadata": {
        "id": "g1G9h2RHeuA1"
      }
    },
    {
      "cell_type": "code",
      "source": [],
      "metadata": {
        "id": "WexY_LOKfBJI"
      },
      "execution_count": null,
      "outputs": []
    },
    {
      "cell_type": "markdown",
      "source": [
        "# **9) Rectangle Area**\n",
        "\n",
        "Chip and Jo have designed an interior design tool that needs area calculations and you've been hired to help. Write a function area(width, height) that takes two values (strings or ints), multiplies them, and returns the result as an integer."
      ],
      "metadata": {
        "id": "PDNlcZgjfBap"
      }
    },
    {
      "cell_type": "code",
      "source": [],
      "metadata": {
        "id": "6u7uE6SAfPjr"
      },
      "execution_count": null,
      "outputs": []
    },
    {
      "cell_type": "markdown",
      "source": [
        "# **15) Username Generator**\n",
        "\n",
        "A website you're working on automatically creates usernames from a first initial and a last name. Write a function make_username(first, last) that takes two strings, a first and last name, builds the username in all lowercase, and returns it to the user in the message \"Your username is: <username>.\""
      ],
      "metadata": {
        "id": "SsQQJ324fP4e"
      }
    },
    {
      "cell_type": "code",
      "source": [],
      "metadata": {
        "id": "O41cxE9FfQVP"
      },
      "execution_count": null,
      "outputs": []
    }
  ]
}